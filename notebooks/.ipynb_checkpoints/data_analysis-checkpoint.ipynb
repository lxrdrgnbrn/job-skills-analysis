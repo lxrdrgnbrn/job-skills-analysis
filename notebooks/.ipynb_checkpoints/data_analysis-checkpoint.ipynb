{
 "cells": [
  {
   "cell_type": "code",
   "execution_count": 7,
   "id": "af480e58-0351-4d9d-be5f-df348c0cb414",
   "metadata": {},
   "outputs": [],
   "source": [
    "import pandas as pd\n",
    "import seaborn\n",
    "import matplotlib\n",
    "import numpy\n",
    "import ast\n"
   ]
  },
  {
   "cell_type": "code",
   "execution_count": 9,
   "id": "bb282f25-7178-45c0-bc5d-8ccdcdd97517",
   "metadata": {},
   "outputs": [
    {
     "ename": "AttributeError",
     "evalue": "'Series' object has no attribute 'value_count'",
     "output_type": "error",
     "traceback": [
      "\u001b[31m---------------------------------------------------------------------------\u001b[39m",
      "\u001b[31mAttributeError\u001b[39m                            Traceback (most recent call last)",
      "\u001b[32m/tmp/ipykernel_23629/906199291.py\u001b[39m in \u001b[36m?\u001b[39m\u001b[34m()\u001b[39m\n\u001b[32m      2\u001b[39m \n\u001b[32m      3\u001b[39m data[\u001b[33m'requirements'\u001b[39m] = data[\u001b[33m'requirements'\u001b[39m].apply(ast.literal_eval)\n\u001b[32m      4\u001b[39m cleaned = data[\u001b[33m'requirements'\u001b[39m].apply(\u001b[38;5;28;01mlambda\u001b[39;00m x: list(set(x)))\n\u001b[32m      5\u001b[39m exploded = cleaned.explode()\n\u001b[32m----> \u001b[39m\u001b[32m6\u001b[39m skills_count = exploded.value_count()\n\u001b[32m      7\u001b[39m print(skills_count)\n",
      "\u001b[32m~/miniconda3/envs/myenv/lib/python3.11/site-packages/pandas/core/generic.py\u001b[39m in \u001b[36m?\u001b[39m\u001b[34m(self, name)\u001b[39m\n\u001b[32m   6314\u001b[39m             \u001b[38;5;28;01mand\u001b[39;00m name \u001b[38;5;28;01mnot\u001b[39;00m \u001b[38;5;28;01min\u001b[39;00m self._accessors\n\u001b[32m   6315\u001b[39m             \u001b[38;5;28;01mand\u001b[39;00m self._info_axis._can_hold_identifiers_and_holds_name(name)\n\u001b[32m   6316\u001b[39m         ):\n\u001b[32m   6317\u001b[39m             \u001b[38;5;28;01mreturn\u001b[39;00m self[name]\n\u001b[32m-> \u001b[39m\u001b[32m6318\u001b[39m         \u001b[38;5;28;01mreturn\u001b[39;00m object.__getattribute__(self, name)\n",
      "\u001b[31mAttributeError\u001b[39m: 'Series' object has no attribute 'value_count'"
     ]
    }
   ],
   "source": [
    "data = pd.read_csv('../data/processed/requirements_data_processed_cleaned.csv')\n",
    "\n",
    "data['requirements'] = data['requirements'].apply(ast.literal_eval)\n",
    "cleaned = data['requirements'].apply(lambda x: list(set(x)))\n",
    "exploded = cleaned.explode()\n",
    "skills_count = exploded.value_counts()\n",
    "print(skills_count)"
   ]
  },
  {
   "cell_type": "code",
   "execution_count": null,
   "id": "d1864c0e-1c35-4c48-a010-4fccdf0768a9",
   "metadata": {},
   "outputs": [],
   "source": []
  }
 ],
 "metadata": {
  "kernelspec": {
   "display_name": "Python 3 (ipykernel)",
   "language": "python",
   "name": "python3"
  },
  "language_info": {
   "codemirror_mode": {
    "name": "ipython",
    "version": 3
   },
   "file_extension": ".py",
   "mimetype": "text/x-python",
   "name": "python",
   "nbconvert_exporter": "python",
   "pygments_lexer": "ipython3",
   "version": "3.11.13"
  }
 },
 "nbformat": 4,
 "nbformat_minor": 5
}
